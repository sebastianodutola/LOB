{
 "cells": [
  {
   "cell_type": "markdown",
   "metadata": {},
   "source": [
    "# Basic LOB\n",
    "\n",
    "Here we create a simple useful single stock LOB which will work at L3, Market By Price (MBP). Allocation will be FIFO.\n",
    "\n",
    "## Interface\n",
    "### Orders \n",
    "We will abstract away the orders in a class. The important information to keep is whether the order is buy or sell, the price, an ID to be able to track it and the volume of the order.\n",
    "\n",
    "class Order: \n",
    "    int orderID\n",
    "    bool buySell\n",
    "    int volume\n",
    "    float price\n",
    "    float timestamp \n",
    "\n",
    "### Bid/Asks \n",
    "We will have two data-structures holding Bids and Asks. We are using FIFO allocation; Concretely this prioritises price first, time second.\n",
    "**Example**\n",
    "Jess arrives at t=1 bidding 2 at 100\n",
    "James arrives at t=2 bidding 1 at 110\n",
    "Jim arrives at t=3 bidding 2 at 100\n",
    "John arrives at t=4 asking 4 at 100 \n",
    "\n",
    "James is serviced first for 1 at 110, then Jess for 2 at 100, then Jim for 1 at 100. Jim remains on the book with 1 at 100.\n",
    "\n",
    "Bids: In the normal course of business we need to be able to retrieve the highest bid. A  qu with highest price priority makes sense. However, to distinguish between two orders at the same price a queue based on timestamp is needed. \n",
    "Asks: Same as bids but with lowest price priority.\n",
    "\n",
    "maxQ(Q) Bids \n",
    "minQ(Q) Asks \n",
    "\n"
   ]
  },
  {
   "cell_type": "code",
   "execution_count": null,
   "metadata": {},
   "outputs": [],
   "source": []
  }
 ],
 "metadata": {
  "language_info": {
   "name": "python"
  }
 },
 "nbformat": 4,
 "nbformat_minor": 2
}
